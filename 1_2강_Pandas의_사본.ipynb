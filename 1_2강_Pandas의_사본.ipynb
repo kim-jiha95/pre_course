{
  "nbformat": 4,
  "nbformat_minor": 0,
  "metadata": {
    "colab": {
      "name": "1-2강 Pandas의 사본",
      "provenance": [],
      "collapsed_sections": [],
      "include_colab_link": true
    },
    "kernelspec": {
      "name": "python3",
      "display_name": "Python 3"
    }
  },
  "cells": [
    {
      "cell_type": "markdown",
      "metadata": {
        "id": "view-in-github",
        "colab_type": "text"
      },
      "source": [
        "<a href=\"https://colab.research.google.com/github/kim-jiha95/pre_course/blob/master/1_2%EA%B0%95_Pandas%EC%9D%98_%EC%82%AC%EB%B3%B8.ipynb\" target=\"_parent\"><img src=\"https://colab.research.google.com/assets/colab-badge.svg\" alt=\"Open In Colab\"/></a>"
      ]
    },
    {
      "cell_type": "markdown",
      "metadata": {
        "id": "9UtfduPSva8f"
      },
      "source": [
        "# ⛔ 강의를 시작하기 전에  \n",
        "</br>\n",
        "\n",
        "## ✍ 지난 시간 복습하기\n",
        "\n",
        "```\n",
        "간단히 지난 시간 강의내용 복습을 진행해주세요 🔥🔥\n",
        "```\n",
        "\n",
        "</br>\n"
      ]
    },
    {
      "cell_type": "markdown",
      "metadata": {
        "id": "Sa9_tEYoYn_P"
      },
      "source": [
        "#🔥Lesson 2, Deep Dive into 판다스(Pandas)!  \n",
        "🏊🏻‍♀️🏊🏻🏊🏻‍♂️🏊🏻‍♀️🏊🏻🏊🏻‍♂️🏊🏻‍♀️🏊🏻🏊🏻‍♂️🏊🏻‍♀️🏊🏻🏊🏻‍♂️🏊🏻‍♀️🏊🏻🏊🏻‍♂️🏊🏻‍♀️🏊🏻🏊🏻‍♂️🏊🏻‍♀️🏊🏻🏊🏻‍♂️🏊🏻‍♀️🏊🏻🏊🏻‍♂️\n",
        "\n",
        "## ⛳ 무엇을 배우나요?\n",
        "\n",
        "<img src = \"https://1.bp.blogspot.com/-eoV5My8inEM/Xp6leGwfgAI/AAAAAAAAASw/1VoFO4JgO-YyOdhvCkqlMrtDeuPgz5K9ACLcBGAsYHQ/s1600/%25E1%2584%2589%25E1%2585%25B3%25E1%2586%25AF%25E1%2584%2585%25E1%2585%25A1%25E1%2584%258B%25E1%2585%25B5%25E1%2584%2583%25E1%2585%25B33.png\" width = \"1000\">\n",
        "\n",
        "\n",
        "## 🌈 개요\n",
        "\n",
        " Pandas는 데이터 생성 및 분석을 위한 파이썬의 패키지 중 하나입니다. Pandas의 이름은 Panel Data라는 계량경제학 용어에서 비롯되었으며, 파이썬에서는 Pandas Series와 Pandas DataFrame 두 가지의 자료 구조를 구현하고 있습니다.  \n",
        " 위의 언급된 자료 구조들은 레이블링 및 데이터의 관계를 파악하는 데에 비교적 직관적인 형태로 되어 있어서, 데이터 분석에 있어서 굉장히 효과적이고 중요한 내용을 담고 있습니다.\n",
        "![대체 텍스트](https://t1.daumcdn.net/cfile/tistory/99398D505C764B9423)\n",
        "\n",
        "## 🔫Pandas vs Excel  \n",
        "판다스와 엑셀의 대결은 마치  \n",
        "- 총 vs 검\n",
        "- 피피티로 발표 vs 전지로 발표  \n",
        "와도 같습니다. 쌓이는 데이터의 양이 많아지면 엑셀은 약 300MB만 되어도 파일을 여는 데에만 5분이 넘게 걸리거나, 렉이 걸리는 경우가 많습니다.  \n",
        "그러나 판다스를 사용한다면 방대한 양의 데이터를 빠르게 확인하고 수정할 수 있습니다.  \n",
        "- **파이썬 + 판다스 == 빅 데이터 사이언스**\n",
        "\n",
        "</br>\n",
        "\n",
        "## 😃 강사님이 생각하는 판다스란? 판다스를 배우면 좋은 이유는?  \n",
        "\n",
        "\n",
        "```\n",
        "\n",
        "```\n",
        "\n",
        "</br>\n",
        "\n",
        "## 🌈 배워야 하는 내용\n",
        "\n",
        "-  어떻게 Pandas를 Import 하는지\n",
        "\n",
        "-  Pandas Series를 생성하고 분석해보기\n",
        "\n",
        "-  Pandas DataFrame를 생성하고 분석해보기\n",
        "\n",
        "-  Pandas DataFrame에 데이터 불러오기\n",
        "\n",
        "</br>\n",
        "\n",
        "## 💻 버전 관리\n",
        "\n",
        "* 참고 판다스 홈페이지 (https://pandas.pydata.org/)\n",
        "\n",
        "    Latest version: 1.0.1\n",
        "\n",
        "    Release date: Feb 05, 2020\n",
        "\n",
        "현재 사용자 환경에 판다스가 설치되어있지 않은 경우\n",
        "* `pip install pandas=1.0.1`\n",
        "\n",
        "Anaconda를 사용하는 경우\n",
        "* `conda install pandas=1.0.1`\n",
        "\n",
        "</br>\n",
        "\n",
        "## 💾 참고 자료\n",
        "\n",
        "https://pandas.pydata.org/docs/\n",
        "\n",
        "판다스 관련 활용 가능한 함수와 주요 인자에 대한 설명이 필요한 경우 참고해주세요.\n",
        "\n",
        "</br>\n",
        "\n",
        "## 🔍 모르는 것이 있을 때는?\n",
        "\n",
        "> Google 검색 엔진 \n",
        "                \n",
        "                 -> \"How to use Pandas\"\n",
        "                 \n",
        "                 -> \"판다스 사용법\"\n",
        "                 \n",
        "                 -> \"파이썬 데이터 프레임\"\n",
        "                 \n",
        "                 -> \"DataFrame in Python\"\n",
        "\n",
        "등의 키워드를 적극 활용해주세요! 데이터 사이언티스트로 자립하기💪💪\n",
        "\n",
        "\n"
      ]
    },
    {
      "cell_type": "markdown",
      "metadata": {
        "id": "XRwqQZ5hMDOu"
      },
      "source": [
        "# 📌 Step 0. 딕셔너리 자료형 배우기\n",
        "\n",
        "판다스를 배우기 전, 파이썬에서 딕셔너리란 무엇일까요? 단어 그대로 직역하면 📕사전이라는 뜻입니다.\n",
        "\n",
        "<img src = \"https://static.checkio.org/media/blog/share/dict.jpg\" width = \"500\">\n",
        "\n",
        "즉 \"apple\"이라는 단어에 \"사과\", \"banana\"라는 단어에 \"바나나\"라는 뜻이 매칭되어 있듯이 \n",
        "\n",
        "딕셔너리는 **Key**와 **Value**를 한 쌍으로 갖는 자료형입니다. 예컨대 **Key**가 **\"apple\"**이라면 **Value**는 **\"사과\"**가 될 것입니다.\n",
        "\n",
        "지난 시간 배운 리스트처럼 순차적으로(sequential) 해당 요솟값을 구하지 않고  \n",
        "**Key**를 통해 **Value**를 얻는 다는 것. 이것이 바로 딕셔너리의 가장 큰 특징입니다.\n",
        "\n",
        " > 🔍 예시를 한번 살펴보겠습니다!"
      ]
    },
    {
      "cell_type": "code",
      "metadata": {
        "id": "v5lC5bQyJw1A"
      },
      "source": [
        "dict_1 = { 'a' :'데이터', 'b':'다이빙', 'c': '3기', 'd': '파이팅!'}"
      ],
      "execution_count": null,
      "outputs": []
    },
    {
      "cell_type": "markdown",
      "metadata": {
        "id": "eiz6muLb3hlz"
      },
      "source": [
        "위의 딕셔너리 dict_1의 구성은 이렇게 될 것입니다.\n",
        "\n",
        "<img src = \"https://1.bp.blogspot.com/-5-SvX9hRJzM/XsuBgUdb3iI/AAAAAAAAAYc/L3uXG2I-GoAeEdmlwFDk7XpxjEteXdJSwCLcBGAsYHQ/s1600/%25E1%2584%2589%25E1%2585%25B3%25E1%2584%258F%25E1%2585%25B3%25E1%2584%2585%25E1%2585%25B5%25E1%2586%25AB%25E1%2584%2589%25E1%2585%25A3%25E1%2586%25BA%2B2020-05-25%2B%25E1%2584%258B%25E1%2585%25A9%25E1%2584%2592%25E1%2585%25AE%2B5.27.00.png\" width = \"350\">"
      ]
    },
    {
      "cell_type": "code",
      "metadata": {
        "id": "0KeyqEhXyBRc"
      },
      "source": [
        "print(dict_1)"
      ],
      "execution_count": null,
      "outputs": []
    },
    {
      "cell_type": "markdown",
      "metadata": {
        "id": "xqtFqIWU86pz"
      },
      "source": [
        "### Key 값을 통해서 Value 찾기\n",
        "\n",
        "List에서는 순차적으로 요솟값들을 찾는 것과 달리, \n",
        "\n",
        "`딕셔너리[key]`에서는 이런 식으로 Value를 찾습니다.\n"
      ]
    },
    {
      "cell_type": "code",
      "metadata": {
        "id": "fOliXU82-omi"
      },
      "source": [
        "# 실행해보세요!\n",
        "dict_1['a']"
      ],
      "execution_count": null,
      "outputs": []
    },
    {
      "cell_type": "code",
      "metadata": {
        "id": "WsJMX8_T-yHm"
      },
      "source": [
        "# 실행해보세요!\n",
        "dict_1['b']"
      ],
      "execution_count": null,
      "outputs": []
    },
    {
      "cell_type": "code",
      "metadata": {
        "id": "Z39VQJej-zV_"
      },
      "source": [
        "# 실행해보세요!\n",
        "dict_1['c']"
      ],
      "execution_count": null,
      "outputs": []
    },
    {
      "cell_type": "code",
      "metadata": {
        "id": "sdel8Wz3-1oC"
      },
      "source": [
        "# 실행 결과는 무엇일까요?\n",
        "dict_1['d']"
      ],
      "execution_count": null,
      "outputs": []
    },
    {
      "cell_type": "markdown",
      "metadata": {
        "id": "ft7lQEgs_MNq"
      },
      "source": [
        "### 딕셔너리의 함수들\n",
        "\n",
        "- `.keys()` : 딕셔너리에서 Key만 모아서 `dict_keys`를 만들어줍니다.\n",
        "- `.values()` : 마찬가지로 Value만 얻고 싶을 경우 사용합니다.\n",
        "- `.items()` : Key와 Value의 쌍을 묶은 형태로 반환해줍니다."
      ]
    },
    {
      "cell_type": "code",
      "metadata": {
        "id": "J_5K7PDZAp4i"
      },
      "source": [
        "# .keys() 이용하기\n",
        "dict_1.???"
      ],
      "execution_count": null,
      "outputs": []
    },
    {
      "cell_type": "code",
      "metadata": {
        "id": "pxqFKizWye2Q"
      },
      "source": [
        "list(dict_1.keys())"
      ],
      "execution_count": null,
      "outputs": []
    },
    {
      "cell_type": "code",
      "metadata": {
        "id": "GSNO6qJQBD-U"
      },
      "source": [
        "# 이렇게 사용할 수도 있어요\n",
        "for i in dict_1.keys():\n",
        "print(i)"
      ],
      "execution_count": null,
      "outputs": []
    },
    {
      "cell_type": "code",
      "metadata": {
        "id": "XbPHZcSIBO57"
      },
      "source": [
        "# 리스트로 바꿀 수도 있어요\n",
        "list_1 = ???\n",
        "print(list_1)"
      ],
      "execution_count": null,
      "outputs": []
    },
    {
      "cell_type": "code",
      "metadata": {
        "id": "wSD3lG-WB9ra"
      },
      "source": [
        "# .values()\n",
        "dict_1.???"
      ],
      "execution_count": null,
      "outputs": []
    },
    {
      "cell_type": "code",
      "metadata": {
        "id": "GgSGkEVgCELS"
      },
      "source": [
        "# .items()\n",
        "dict_1.???"
      ],
      "execution_count": null,
      "outputs": []
    },
    {
      "cell_type": "code",
      "metadata": {
        "id": "88sQq98ry4Xa"
      },
      "source": [
        "\"\"\"\n",
        "sing(...) # function, 함수\n",
        "dict_1.sing() # method, 메소드;  클래스의 함수\n",
        "\"\"\""
      ],
      "execution_count": null,
      "outputs": []
    },
    {
      "cell_type": "markdown",
      "metadata": {
        "id": "xtS6VTfuCNGh"
      },
      "source": [
        "> 🔍 자신의 이름, 성명, 성별, 나이를 Key로 갖고 있는 딕셔너리를 만들어보세요!"
      ]
    },
    {
      "cell_type": "code",
      "metadata": {
        "id": "Ucrb8J81Cb1g"
      },
      "source": [
        "# 여기에!\n",
        "dict_mine = {\n",
        "    'first name': ???,\n",
        "    'last name': ???, \n",
        "    'sex': ???,\n",
        "    'age': ???\n",
        "}"
      ],
      "execution_count": null,
      "outputs": []
    },
    {
      "cell_type": "code",
      "metadata": {
        "id": "Ta3Hqvw0zZ8B"
      },
      "source": [
        "dict_mine['first name']"
      ],
      "execution_count": null,
      "outputs": []
    },
    {
      "cell_type": "markdown",
      "metadata": {
        "id": "4ZMXNPjqgOLg"
      },
      "source": [
        "# 📌 Step 1. Pandas import 하기"
      ]
    },
    {
      "cell_type": "markdown",
      "metadata": {
        "id": "4hMEYi3W-X0y"
      },
      "source": [
        ">  Pandas 패키지를 파이썬으로 불러오기 \n",
        "- `as pd` 는 `pandas`를 사용자 지정으로 단어(`pd`)로 바꿔주는 코드입니다."
      ]
    },
    {
      "cell_type": "code",
      "metadata": {
        "id": "yA8F8pmfgXfF"
      },
      "source": [
        "import pandas as pd "
      ],
      "execution_count": null,
      "outputs": []
    },
    {
      "cell_type": "markdown",
      "metadata": {
        "id": "vln0ECajgYiW"
      },
      "source": [
        "# 📌 Step 2. Pandas Series를 생성하고 분석해보기\n",
        "\n"
      ]
    },
    {
      "cell_type": "markdown",
      "metadata": {
        "id": "8t3_uGlk_RJM"
      },
      "source": [
        "## Pandas Series란?\n",
        " 각각의 인덱스 값을 갖는 1차원 데이터 배열입니다.  \n",
        "\n",
        "![대체 텍스트](https://1.bp.blogspot.com/-3LGXA4kFrQs/XnxqYwQnOOI/AAAAAAAAAK8/IujzJYOVKI41vWv-e5_3zk4DCIccuyqDgCLcBGAsYHQ/s1600/1.JPG)"
      ]
    },
    {
      "cell_type": "markdown",
      "metadata": {
        "id": "n8UxGVU0AK0T"
      },
      "source": [
        "## 데이터 생성 : Pandas Series 만들어보기"
      ]
    },
    {
      "cell_type": "markdown",
      "metadata": {
        "id": "hRgGNmi0ARnC"
      },
      "source": [
        "> 🔍 철수는 마트에서 필요한 식료품을 사려고 합니다. 마트로 출발하기 전에 Pandas Series를 이용해서 메모를 해두려고 하는데요.  \n",
        "- 계란 30개, 사과 6개, 우유 1개, 빵은 사고 싶지만 다이어트를 위해 구매하지 않음 \n",
        "- 1개만 사는 경우에는 'Yes', 구매하지 않으려는 경우에는 'No'로 표시  \n",
        "- `pd.Series()`"
      ]
    },
    {
      "cell_type": "code",
      "metadata": {
        "id": "Y602M5oAYltP"
      },
      "source": [
        "groceries = pd.Series(index = ['eggs', 'apples', 'milk', 'bread'], data = [30, 6, 'Yes', 'No'])\n",
        "\n",
        "# Pandas Series는 어떻게 생겼을까요?\n",
        "print(groceries)"
      ],
      "execution_count": null,
      "outputs": []
    },
    {
      "cell_type": "code",
      "metadata": {
        "id": "TQ4nxSCTYlwb"
      },
      "source": [
        "# Pandas Series의 기초 정보\n",
        "print('형태: ', groceries.shape)\n",
        "print('차원:', groceries.ndim)\n",
        "print('총 원소의 갯수:', groceries.size)"
      ],
      "execution_count": null,
      "outputs": []
    },
    {
      "cell_type": "code",
      "metadata": {
        "id": "EE1qLbOdu64S"
      },
      "source": [
        "# Value와 Index\n",
        "print('값:', groceries.values) # dictionary: dict_1.values()\n",
        "print('인덱스:', groceries.index) # dictionary: dict_1.keys()"
      ],
      "execution_count": null,
      "outputs": []
    },
    {
      "cell_type": "markdown",
      "metadata": {
        "id": "D8SywFVaE8yg"
      },
      "source": [
        "## 데이터 탐색 : 인덱스 레이블을 통해 원소에 접근해보기  \n",
        "- loc: 레이블명 또는 별명으로 정의된 인덱스를 바탕으로 접근\n",
        "- iloc: 정수형 인덱스(순서)를 바탕으로 접근"
      ]
    },
    {
      "cell_type": "code",
      "metadata": {
        "id": "dyIu_Doseypg"
      },
      "source": [
        "# Q. 식료품점에서 사과를 몇 개 사야하는 걸까요?\n",
        "print(groceries[???])"
      ],
      "execution_count": null,
      "outputs": []
    },
    {
      "cell_type": "code",
      "metadata": {
        "id": "6VkHURuehj82"
      },
      "source": [
        "# Q. 식료품점에서 사과와 우유는 몇 개 사야하는 걸까요?\n",
        "print(groceries[ [???] ])"
      ],
      "execution_count": null,
      "outputs": []
    },
    {
      "cell_type": "code",
      "metadata": {
        "id": "WbHJ8bqahkYC"
      },
      "source": [
        "# Q. 식료품점에서 사과와 우유는 몇 개 사야하는 걸까요? .loc[] 사용하기\n",
        "print(groceries.loc[[???]])"
      ],
      "execution_count": null,
      "outputs": []
    },
    {
      "cell_type": "code",
      "metadata": {
        "id": "JiUA41l3hkba"
      },
      "source": [
        "# Q. 식료품점에서 사과와 우유는 몇 개 사야하는 걸까요? numerical indices 사용하기\n",
        "print(groceries[???]) "
      ],
      "execution_count": null,
      "outputs": []
    },
    {
      "cell_type": "code",
      "metadata": {
        "id": "uvxQr93vhkel"
      },
      "source": [
        "# Q. 식료품점에서 사과와 우유는 몇 개 사야하는 걸까요? .iloc[] 사용하기\n",
        "print(groceries.iloc[???]) "
      ],
      "execution_count": null,
      "outputs": []
    },
    {
      "cell_type": "markdown",
      "metadata": {
        "id": "DlYYDlpIIuTV"
      },
      "source": [
        "## 데이터 수정 : Series 안의 원소를 변경하기"
      ]
    },
    {
      "cell_type": "markdown",
      "metadata": {
        "id": "Oopb4cwaIf4p"
      },
      "source": [
        "> 🔍 식료품점에서 달걀을 30개에서 5개만 사기로 마음을 바꿨습니다. 어떻게 내용을 수정할 수 있을까요?"
      ]
    },
    {
      "cell_type": "code",
      "metadata": {
        "id": "jaLEUYCkYly_"
      },
      "source": [
        "# 해당 인덱스 부분에 value를 덮어 씌워주면 됩니다.\n",
        "groceries['eggs'] = ???\n",
        "print(groceries)"
      ],
      "execution_count": null,
      "outputs": []
    },
    {
      "cell_type": "markdown",
      "metadata": {
        "id": "ZDyMmdOVJOH-"
      },
      "source": [
        "## 데이터 삭제 : 특정 레이블을 제거하기"
      ]
    },
    {
      "cell_type": "markdown",
      "metadata": {
        "id": "TvFaMLWeKvWt"
      },
      "source": [
        "> 빵을 메모해두니, 철수는 빵이 계속 눈에 아른거려서 충동 구매할 것만 같습니다. 어떻게 내용을 삭제할 수 있을까요?\n",
        "- `Series.drop(label)`"
      ]
    },
    {
      "cell_type": "code",
      "metadata": {
        "id": "SDsgyNKhYl1N"
      },
      "source": [
        "print(groceries.???)"
      ],
      "execution_count": null,
      "outputs": []
    },
    {
      "cell_type": "code",
      "metadata": {
        "id": "o-IDlyIi2pVu"
      },
      "source": [
        "print(groceries)"
      ],
      "execution_count": null,
      "outputs": []
    },
    {
      "cell_type": "markdown",
      "metadata": {
        "id": "_bGutyL1LLq2"
      },
      "source": [
        "> `Series.drop(label)`만 적용하는 경우 무의식 속에 남아 완벽히 삭제되지 않았습니다.  \n",
        "- `print()`를 통하여 삭제 여부를 확인해주세요. "
      ]
    },
    {
      "cell_type": "code",
      "metadata": {
        "id": "c6NhzKn1Km6n"
      },
      "source": [
        "print(groceries)"
      ],
      "execution_count": null,
      "outputs": []
    },
    {
      "cell_type": "markdown",
      "metadata": {
        "id": "x2dzrth3LpjE"
      },
      "source": [
        "> 완전히 삭제하기 위해서는 추가로 정의해주어야 할 것이 있습니다.  \n",
        "- `inplace = True`"
      ]
    },
    {
      "cell_type": "code",
      "metadata": {
        "id": "m7fP9zwBKnJt"
      },
      "source": [
        "groceries.drop(???)\n",
        "\n",
        "# Series.drop(label, inplace = True)를 적용하고 나니, 머릿 속에서 완전히 지워졌습니다.\n",
        "print(groceries)"
      ],
      "execution_count": null,
      "outputs": []
    },
    {
      "cell_type": "markdown",
      "metadata": {
        "id": "1u5il18sL8pT"
      },
      "source": [
        "> 🔍 Pandas Series를 이용하여, 특정 스포츠 선수의 연봉을 비교해보겠습니다.  \n",
        "- 단위는 '억'\n",
        "- 류현진 선수 연봉 : 242억\n",
        "- 손흥민 선수 연봉 : 110억\n",
        "- 페이커 선수 연봉 : 30억\n",
        "- `end = '\\n\\n'` : `print()` 함수 내에서 엔터를 두 번 실행하는 인자입니다."
      ]
    },
    {
      "cell_type": "code",
      "metadata": {
        "id": "vRFAeqvxYdzW"
      },
      "source": [
        "## Series 데이터를 생성하고 salary라는 변수에 저장합니다.\n",
        "# salary = pd.Series(index=['ryu', 'son', 'faker'], data=[242, 110, 30])\n",
        "salary = ???\n",
        "print(salary)"
      ],
      "execution_count": null,
      "outputs": []
    },
    {
      "cell_type": "code",
      "metadata": {
        "id": "_m7NKJkBBvde"
      },
      "source": [
        "## Pandas Series에는 기초적인 연산도 가능합니다.\n",
        "print(salary * 2, end = '\\n\\n')\n",
        "print(salary + 2, end = '\\n\\n')\n",
        "print(salary - 2, end = '\\n\\n') \n",
        "print(salary / 2, end = '\\n\\n')\n",
        "print(salary // 2, end = '\\n\\n')"
      ],
      "execution_count": null,
      "outputs": []
    },
    {
      "cell_type": "code",
      "metadata": {
        "id": "04uV1gXXBvnB"
      },
      "source": [
        "## 그러나 위의 연산들은 원래의 데이터에 영향을 주지 못합니다.\n",
        "print(salary)"
      ],
      "execution_count": null,
      "outputs": []
    },
    {
      "cell_type": "markdown",
      "metadata": {
        "id": "ncbRkTRGBsLv"
      },
      "source": [
        "> 당연하게도, Pandas Series의 개별 원소에도 기초적인 연산이 가능합니다."
      ]
    },
    {
      "cell_type": "code",
      "metadata": {
        "id": "PqUSm23RNWUE"
      },
      "source": [
        "print('페이커는 중국에서 100억을 제안받은 적이 있다.')\n",
        "print(salary['faker'] + 70)"
      ],
      "execution_count": null,
      "outputs": []
    },
    {
      "cell_type": "markdown",
      "metadata": {
        "id": "Ga3YMdkCCP3G"
      },
      "source": [
        ">그러나 이 역시도 원래 데이터에 영향을 주지는 않습니다.  \n",
        "💰30억을 받고 있는 건 사실이니까요!!"
      ]
    },
    {
      "cell_type": "code",
      "metadata": {
        "id": "q1eewV8ICQMK"
      },
      "source": [
        "print(salary)"
      ],
      "execution_count": null,
      "outputs": []
    },
    {
      "cell_type": "markdown",
      "metadata": {
        "id": "7WWUekKLOEHW"
      },
      "source": [
        "> 그러나, 페이커가 SKT로부터 인센티브 20억을 더 받고 있다는 것이 기정 사실로 된다면?"
      ]
    },
    {
      "cell_type": "code",
      "metadata": {
        "id": "8QVk0LM4N_ty"
      },
      "source": [
        "## 원래 데이터를 수정하는 방법\n",
        "# salary['faker'] = salary['faker'] + 20\n",
        "salary['faker'] += 20\n",
        "\n",
        "## 페이커의 연봉이 50억으로 수정이 되었습니다.\n",
        "print(salary)"
      ],
      "execution_count": null,
      "outputs": []
    },
    {
      "cell_type": "markdown",
      "metadata": {
        "id": "PS213FkEqs8x"
      },
      "source": [
        "# 📌 Step 3. DataFrame을 생성하고 분석해보기\n",
        "\n",
        "pd.Series로 모든 데이터를 분석하는 것은 한계가 있습니다.\n",
        "\n",
        "아래와 같이 인덱스 레이블(행)의 속성(열)이 2개 이상인 경우가 있기 때문입니다.\n",
        "\n",
        "<img src=\"https://1.bp.blogspot.com/-284EVWGL1oQ/XnxqZvDNdSI/AAAAAAAAALI/KPhtO_Se_7oKvW3k4YYntPmYWXQETkjGQCLcBGAsYHQ/s1600/2.JPG\" width = \"800\">\n",
        "\n",
        "> 🔍 이러한 경우에는 어떻게 해야 할까요? 아래의 예시를 통해 배워보도록 하겠습니다.\n",
        "> - 철수와 영희가 같이 식료품을 사러 마트에 가기로 함\n",
        "> - 철수는 사과와 계란, 영희는 우유와 빵을 사는 것으로 임무를 분담\n"
      ]
    },
    {
      "cell_type": "code",
      "metadata": {
        "id": "ZiuvYIL_n-sN"
      },
      "source": [
        "# 마찬가지로 pandas 패키지를 import 합니다(앞에서 불러왔으면 최초 1회만 불러오면 됩니다)\n",
        "# import pandas as pd # cmd+/   windows: ctrl+/ : 주석처리 \n",
        "\n",
        "# 두개의 pd.Series를 생성합니다\n",
        "# index는 구매할 품목, data는 구매할 갯수 \n",
        "items = {\n",
        "    '철수': pd.Series(data = [30, 6], index = ['eggs', 'apples']),\n",
        "    '영희': pd.Series(data = ['5', \"2\"], index = ['milk', 'bread'])}\n",
        "\n",
        "print(items)"
      ],
      "execution_count": null,
      "outputs": []
    },
    {
      "cell_type": "code",
      "metadata": {
        "id": "Df72Kh1s5sM5"
      },
      "source": [
        "items['영희']"
      ],
      "execution_count": null,
      "outputs": []
    },
    {
      "cell_type": "markdown",
      "metadata": {
        "id": "t6uw6xMERfDD"
      },
      "source": [
        "> 위와 같이 열이 2개 이상인 데이터를 비교하려니 지저분해져서 보기에 불편합니다 😡"
      ]
    },
    {
      "cell_type": "markdown",
      "metadata": {
        "id": "e6VhTrxwRuta"
      },
      "source": [
        "## DataFrame이란?\n",
        "\n",
        "두 개 이상의 Series가 모여 생성되는 테이블 형태의 2차원 데이터입니다.\n",
        "\n",
        "![대체 텍스트](https://1.bp.blogspot.com/-NkPRfZJSEo4/XnxqZ-y433I/AAAAAAAAALM/P1808veHezQ7QY3g6amtQDOo8dYSCB7vgCLcBGAsYHQ/s1600/3.JPG)\n"
      ]
    },
    {
      "cell_type": "markdown",
      "metadata": {
        "id": "KXgsYzcjThg2"
      },
      "source": [
        "> 🔍 위에서 만든 `items`에 `pd.DataFrame`를 사용해보세요!"
      ]
    },
    {
      "cell_type": "code",
      "metadata": {
        "id": "BNBSF3XEsVBZ"
      },
      "source": [
        "df_items = ???\n",
        "\n",
        "# 각 레이블(행)마다 2개의 속성(열)을 지니는 DataFrame이 생성되었습니다.\n",
        "df_items"
      ],
      "execution_count": null,
      "outputs": []
    },
    {
      "cell_type": "markdown",
      "metadata": {
        "id": "c1o9BUYmUx9c"
      },
      "source": [
        "DataFrame도 똑같이 기초 정보(형태, 차원, 원소의 개수 등)를 구할 수 있습니다.\n",
        "> - `데이터 변수.shape` : 형태를 알 수 있음\n",
        "- `데이터 변수.ndim`: 차원을 알 수 있음\n",
        "- `데이터 변수.size` : 원소의 개수"
      ]
    },
    {
      "cell_type": "code",
      "metadata": {
        "id": "SqC1H36WssUH"
      },
      "source": [
        "# Pandas DataFrame의 기초 정보\n",
        "print('형태: ', df_items.???)\n",
        "print('차원:', df_items.???)\n",
        "print('총 원소의 갯수:', df_items.???)"
      ],
      "execution_count": null,
      "outputs": []
    },
    {
      "cell_type": "markdown",
      "metadata": {
        "id": "-b_Ww4NKDcRr"
      },
      "source": [
        "> - `데이터 변수.values`\n",
        "- `데이터 변수.index`\n",
        "- `데이터 변수.columns`"
      ]
    },
    {
      "cell_type": "code",
      "metadata": {
        "id": "7FLonx9-DgeC"
      },
      "source": [
        "# Value와 Index\n",
        "print('값:', df_items.???)\n",
        "print('인덱스:', df_items.???)"
      ],
      "execution_count": null,
      "outputs": []
    },
    {
      "cell_type": "code",
      "metadata": {
        "id": "6lLpE1J1DgkK"
      },
      "source": [
        "# 이제는 column이 2개 이상이니까, 열의 개수도 파악해두어야 합니다.\n",
        "print('열의 이름:', df_items.columns)"
      ],
      "execution_count": null,
      "outputs": []
    },
    {
      "cell_type": "markdown",
      "metadata": {
        "id": "Nx1-lmV0VNFp"
      },
      "source": [
        "## 데이터 프레임 탐색\n",
        "\n",
        "데이터 프레임에서 특정 행과 특정 열만 불러올 수 있습니다.  \n",
        "\n",
        "> 철수의 쇼핑 리스트만 불러오는 다양한 방법  \n",
        "- Column(철수)를 기준으로 탐색"
      ]
    },
    {
      "cell_type": "code",
      "metadata": {
        "id": "bMSBWmZOtPGw"
      },
      "source": [
        "# 첫 번째 방법\n",
        "cheol_list = pd.DataFrame(items, columns = ['철수'])\n",
        "print(cheol_list)"
      ],
      "execution_count": null,
      "outputs": []
    },
    {
      "cell_type": "code",
      "metadata": {
        "id": "prjPEu7vD8cb"
      },
      "source": [
        "# 두 번째 방법 - 두 개 이상의 열에 접근할 때는 사용할 수 없어서 추천하지 않는 방식입니다.\n",
        "# cheol_list = df_items['철수', '영희'] -> 이렇게 사용할 수 없음\n",
        "cheol_list = ???\n",
        "print(cheol_list)"
      ],
      "execution_count": null,
      "outputs": []
    },
    {
      "cell_type": "code",
      "metadata": {
        "id": "dp8rn_MnD8fs"
      },
      "source": [
        "# 세 번째 방법 - 두 개 이상의 열에 접근 가능 [['철수', '영희']] 이런 식으로\n",
        "cheol_list = ???\n",
        "print(cheol_list)"
      ],
      "execution_count": null,
      "outputs": []
    },
    {
      "cell_type": "markdown",
      "metadata": {
        "id": "UHKFKBpoXDQu"
      },
      "source": [
        "> 계란을 누가, 몇 개 샀는지 확인해보는 다양한 방법  \n",
        "- index(계란)를 기준으로 탐색"
      ]
    },
    {
      "cell_type": "code",
      "metadata": {
        "id": "mtGgPDrYzsA_"
      },
      "source": [
        "# 계란을 누가, 몇 개 샀는지 확인하는 첫 번째 방법\n",
        "about_egg = pd.DataFrame(items, index = ['eggs'], columns = ['철수', '영희'])\n",
        "print(about_egg)"
      ],
      "execution_count": null,
      "outputs": []
    },
    {
      "cell_type": "code",
      "metadata": {
        "id": "uZTVAlOrEB6Z"
      },
      "source": [
        "# 계란을 누가, 몇 개 샀는지 확인하는 두 번째 방법\n",
        "about_egg = ???\n",
        "print(about_egg)"
      ],
      "execution_count": null,
      "outputs": []
    },
    {
      "cell_type": "code",
      "metadata": {
        "id": "xErzBv4UEB-1"
      },
      "source": [
        "# 계란을 누가, 몇 개 샀는지 확인하는 세 번째 방법 - 두 개 이상 접근 가능한 방법\n",
        "about_egg = ??? # index 안에 list를 넣어야 한다..\n",
        "print(about_egg)"
      ],
      "execution_count": null,
      "outputs": []
    },
    {
      "cell_type": "code",
      "metadata": {
        "id": "iDj2hZ_gvf_h"
      },
      "source": [
        "# 철수가 계란을 몇 개 샀는지 확인하는 방법\n",
        "cheol_egg = df_items['철수']['eggs'] \n",
        "cheol_egg"
      ],
      "execution_count": null,
      "outputs": []
    },
    {
      "cell_type": "markdown",
      "metadata": {
        "id": "dwUqjP6OaB71"
      },
      "source": [
        "## 🔧**데이터 프레임 수정**\n",
        "⭐이제 새로운 열 추가 또는 새로운 행 추가를 해보도록 하겠습니다  \n",
        "⭐데이터 프레임이 원본에서 변화해가는 모습을 전후로 비교하며 학습해주세요  \n",
        "\n",
        "> 민수와 광수도 같이 마트에 가려고 합니다. \n",
        " - 민수와 광수는 사과만 5개 살 예정\n",
        " - 그러나 광수는 갈지 말지 고민 중"
      ]
    },
    {
      "cell_type": "code",
      "metadata": {
        "id": "yVlhOQ3fzwzo"
      },
      "source": [
        "# 원본을 먼저 확인합니다\n",
        "print(df_items)"
      ],
      "execution_count": null,
      "outputs": []
    },
    {
      "cell_type": "markdown",
      "metadata": {
        "id": "5bjPryB91wAf"
      },
      "source": [
        "### **열추가**\n",
        "> 민수가 장을 볼 리스트(민수열)를 만들고 추가하는 방법입니다.\n",
        "\n"
      ]
    },
    {
      "cell_type": "code",
      "metadata": {
        "id": "zNAYd6MG0fz9"
      },
      "source": [
        "# '민수열' 만들기\n",
        "minsu_list = ???      # Series 데이터 만들기\n",
        "minsu_list = ???       # 데이터 프레임화"
      ],
      "execution_count": null,
      "outputs": []
    },
    {
      "cell_type": "code",
      "metadata": {
        "id": "LVTr26bb8Bvh"
      },
      "source": [
        "minsu_list"
      ],
      "execution_count": null,
      "outputs": []
    },
    {
      "cell_type": "code",
      "metadata": {
        "id": "5GBV2ScZFNos"
      },
      "source": [
        "# 만든 '민수열'을 기존 데이터 프레임에 추가하기 \n",
        "df_items['민수'] = ???\n",
        "print(df_items)"
      ],
      "execution_count": null,
      "outputs": []
    },
    {
      "cell_type": "markdown",
      "metadata": {
        "id": "Q9xkTfPq3hPP"
      },
      "source": [
        "> 광수도 뒤늦게 합류하기로 하였습니다. \n",
        " - 사전에 '광수열'을 만들지 않고 데이터 프레임에 직접 추가하는 방법"
      ]
    },
    {
      "cell_type": "code",
      "metadata": {
        "id": "MhFrltqL2lRw"
      },
      "source": [
        "df_items.???    # Series 데이터를 만들지 않아도 됩니다."
      ],
      "execution_count": null,
      "outputs": []
    },
    {
      "cell_type": "code",
      "metadata": {
        "id": "u_aR9vN68lkI"
      },
      "source": [
        "df_items"
      ],
      "execution_count": null,
      "outputs": []
    },
    {
      "cell_type": "markdown",
      "metadata": {
        "id": "roE54dCQFUuF"
      },
      "source": [
        "> 🔍 예제 : 원하는 방법으로 자신의 이름의 열을 추가해보세요(쇼핑 목록은 자율!)"
      ]
    },
    {
      "cell_type": "code",
      "metadata": {
        "id": "xJG2JfkVFZmd"
      },
      "source": [
        "# 여기에\n"
      ],
      "execution_count": null,
      "outputs": []
    },
    {
      "cell_type": "code",
      "metadata": {
        "id": "9TRoQCd48y9D"
      },
      "source": [
        "df_items"
      ],
      "execution_count": null,
      "outputs": []
    },
    {
      "cell_type": "markdown",
      "metadata": {
        "id": "X13VBqtr9t7C"
      },
      "source": [
        "### **행추가**\n",
        "> 철수와 영희는 생선을 각각 🐟🐟 2마리씩 추가로 사려고 합니다. 민수는 구매하지 않습니다."
      ]
    },
    {
      "cell_type": "code",
      "metadata": {
        "id": "CTizzD698NEZ"
      },
      "source": [
        "fishes = [{'철수': 2, '영희':2, '민수':0}]\n",
        "fishes = pd.DataFrame(fishes, index = ['fishes'])\n",
        "fishes"
      ],
      "execution_count": null,
      "outputs": []
    },
    {
      "cell_type": "code",
      "metadata": {
        "id": "zNVNdVoT9M-z"
      },
      "source": [
        "# '생선' 행을 기존 데이터 프레임에 추가하기\n",
        "df_items = df_items.???    # list와 같이 .append()로 추가할 수 있습니다\n",
        "print(df_items)"
      ],
      "execution_count": null,
      "outputs": []
    },
    {
      "cell_type": "markdown",
      "metadata": {
        "id": "-fRrHQUFGFAV"
      },
      "source": [
        "> 🔍 예제 : 지금 가장 생각나는 음식의 행을 추가해보세요!"
      ]
    },
    {
      "cell_type": "code",
      "metadata": {
        "id": "42nuRiCCGFJW"
      },
      "source": [
        "# 여기에\n",
        "df_items = ???"
      ],
      "execution_count": null,
      "outputs": []
    },
    {
      "cell_type": "code",
      "metadata": {
        "id": "llIlxjmT9iwz"
      },
      "source": [
        "df_items"
      ],
      "execution_count": null,
      "outputs": []
    },
    {
      "cell_type": "markdown",
      "metadata": {
        "id": "VqifcwvCBzJj"
      },
      "source": [
        "###🗑**데이터 프레임 삭제**\n",
        "광수는 결국 가지 않기로 했습니다..... (이 녀석이...😭)\n",
        "> 데이터 프레임에서 '광수열'을 삭제합니다  \n",
        " - `.pop()` : 데이터 프레임에서 원하는 열을 삭제하고 돌려주는 함수, 열을 지정하지 않으면 마지막 열을 삭제합니다."
      ]
    },
    {
      "cell_type": "code",
      "metadata": {
        "id": "Wa_1vniv9K7_"
      },
      "source": [
        "# 여기에\n",
        "df_items.???\n",
        "df_items"
      ],
      "execution_count": null,
      "outputs": []
    },
    {
      "cell_type": "markdown",
      "metadata": {
        "id": "cBpQilrbEXnJ"
      },
      "source": [
        "광수가 초를 쳐서 결국 철수도 가는 것을 포기했습니다\n",
        "> 데이터 프레임에서 '철수열'을 삭제합니다  \n",
        "- `.drop()`\n",
        "- axis = 0 은 행(index), axis = 1 은 열(column)"
      ]
    },
    {
      "cell_type": "code",
      "metadata": {
        "id": "NpgzumLB99NS"
      },
      "source": [
        "df_items.drop(labels='철수',  axis=1)"
      ],
      "execution_count": null,
      "outputs": []
    },
    {
      "cell_type": "code",
      "metadata": {
        "id": "3YP0TJiY-E2F"
      },
      "source": [
        "df_items"
      ],
      "execution_count": null,
      "outputs": []
    },
    {
      "cell_type": "code",
      "metadata": {
        "id": "XeChY73n9Xqj"
      },
      "source": [
        "df_items.???   # 해석 : '철수'라는 열을 삭제\n",
        "df_items"
      ],
      "execution_count": null,
      "outputs": []
    },
    {
      "cell_type": "markdown",
      "metadata": {
        "id": "CVaFGCqgFRGu"
      },
      "source": [
        "### 이름 바꾸기\n",
        "행 또는 열의 이름을 바꿔보도록 하겠습니다.\n",
        "> 열의 이름을 변경하는 경우 : `데이터프레임명.rename(columns = {'기존 이름' : '바뀌는 이름'})`  \n",
        "> 행의 이름을 변경하는 경우 : `데이터프레임명.rename(index = {'기존 이름' : '바뀌는 이름'})`"
      ]
    },
    {
      "cell_type": "code",
      "metadata": {
        "id": "1Dms_UFk9uVx"
      },
      "source": [
        "df_items = df_items.???\n",
        "df_items"
      ],
      "execution_count": null,
      "outputs": []
    },
    {
      "cell_type": "code",
      "metadata": {
        "id": "TXh9JQ90-gV0"
      },
      "source": [
        "df_items = df_items.???\n",
        "df_items"
      ],
      "execution_count": null,
      "outputs": []
    },
    {
      "cell_type": "markdown",
      "metadata": {
        "id": "d9sfM_QBHPEo"
      },
      "source": [
        " 🔍예제 : 자신이 추가했던 열의 이름 앞에 '데이터 사이언티스트'라는 수식어를 추가해보세요!\n",
        "\n"
      ]
    },
    {
      "cell_type": "code",
      "metadata": {
        "id": "oHWeaEE7HPN5"
      },
      "source": [
        "# 여기에\n"
      ],
      "execution_count": null,
      "outputs": []
    },
    {
      "cell_type": "markdown",
      "metadata": {
        "id": "3aNjeAgIHhlC"
      },
      "source": [
        "🎉🎉🎉 데이터 사이언티스트가 된 것을 축하드립니다 🎉🎉🎉"
      ]
    },
    {
      "cell_type": "markdown",
      "metadata": {
        "id": "_Je8GTJ3HX8r"
      },
      "source": [
        "## 결측값 관리\n",
        "🔎표 작성 결과를 보니 결측값(NaN)이 너무 많이 보여서 지저분합니다.\n",
        "> 현황 확인해보기  \n",
        " - `isnull()`\n",
        " - True는 결측값 (NaN), False는 데이터 값이 존재함을 나타냄"
      ]
    },
    {
      "cell_type": "code",
      "metadata": {
        "id": "tz-oGdSJ9-EM"
      },
      "source": [
        "df_items.???"
      ],
      "execution_count": null,
      "outputs": []
    },
    {
      "cell_type": "code",
      "metadata": {
        "id": "4QZKzJLq_Z77"
      },
      "source": [
        "# Q. NaN가 하나라도 포함된 행이면 삭제하는 코드\n",
        "df_items.???"
      ],
      "execution_count": null,
      "outputs": []
    },
    {
      "cell_type": "code",
      "metadata": {
        "id": "zdw7xkVu_uhp"
      },
      "source": [
        "# Q. NaN가 하나라도 포함된 열이면 삭제하는 코드\n",
        "df_items.???"
      ],
      "execution_count": null,
      "outputs": []
    },
    {
      "cell_type": "markdown",
      "metadata": {
        "id": "WN5gvi0oJmUH"
      },
      "source": [
        "무조건 지우니까 남아있는 데이터가 없게 되니 0으로 대체 해보겠습니다!"
      ]
    },
    {
      "cell_type": "code",
      "metadata": {
        "id": "mycLuNJEAGSc"
      },
      "source": [
        "df_items.fillna(0)"
      ],
      "execution_count": null,
      "outputs": []
    },
    {
      "cell_type": "markdown",
      "metadata": {
        "id": "WzBZEAF0A9nZ"
      },
      "source": [
        "# 📌 Step 4. 외부 데이터를 Pandas DataFrame으로 불러오기 \n",
        "\n",
        "이번에는 외부의 데이터를 불러와 활용하는 법을 배워보도록 하겠습니다.  \n",
        "> 먼저, '🐬데이터 다이빙🐬' 여러분들을 위해서 준비한 캐글의 타이타닉 데이터셋을 현재 Colab 파일과 같은 폴더에 넣어주세요!  \n",
        "> - Notion 맨 아래 'titanic_train.csv'  \n",
        "> - Error가 뜬다면 현재 경로설정이 제대로 되어있는지 확인해주세요\n",
        "\n",
        "</br>\n",
        "\n",
        "### Colab과 Google Drive 연동하기\n",
        "\n",
        "구글 코랩 환경에서는 본인의 구글 계정이 소유하고 있는 '구글 드라이브'와의 연동을 지원합니다.  \n",
        "연동하는 경우, 자신의 구글 드라이브를 로컬 환경처럼 활용이 가능하며, 원하는 파일이나 이미지를 불러올 수 있습니다. \n",
        "\n",
        "<br/>\n",
        "\n",
        "### Google Drive 패키지와 os 모듈 불러오기\n",
        "\n",
        "``` python \n",
        "from google.colab import drive\n",
        "import os\n",
        "``` \n",
        "<br>\n",
        "\n",
        "### 본인 구글 드라이브의 최초 경로를 설정하기\n",
        "\n",
        "``` python\n",
        "# 대부분의 구글 드라이브 최초 경로는 아래와 같습니다. \n",
        "# 예외 발생 시 본인의 구글 드라이브에 접속하여 content 폴더나 gdrive 폴더가 어떤 위치에 있으며, \n",
        "# 자신이 연결하려는 폴더까지의 경로가 어떻게 되는지 확인해야 합니다.  \n",
        "drive.mount('/content/gdrive/')\n",
        "``` \n",
        "\n",
        "<img src = \"https://1.bp.blogspot.com/-UdgK4XrzJ6k/XoRD6CTlL-I/AAAAAAAAAQY/GptZSn3vxHwoTGE0mOpaJVJWLRQYZdaeQCLcBGAsYHQ/s1600/%25E1%2584%2589%25E1%2585%25B3%25E1%2584%258F%25E1%2585%25B3%25E1%2584%2585%25E1%2585%25B5%25E1%2586%25AB%25E1%2584%2589%25E1%2585%25A3%25E1%2586%25BA%2B2020-04-01%2B%25E1%2584%258B%25E1%2585%25A9%25E1%2584%2592%25E1%2585%25AE%2B4.29.05.png\" width = \"800\" >\n",
        "\n",
        "<br/>\n",
        "<br/>\n",
        "\n",
        "### 자신의 현재 경로를 파악하기\n",
        "\n",
        "``` python\n",
        "os.getcwd()\n",
        "``` \n",
        "<br/>\n",
        "\n",
        "### 현재 작업 환경 설정하기 (불러오려는 파일이 있는 폴더로 경로 설정)\n",
        "\n",
        "``` python\n",
        "os.chdir('/content/gdrive/My Drive/Colab Notebooks ~ 내 폴더 및 경로')\n",
        "``` \n",
        "\n",
        "아마 대부분의 경우, **My Drive** 까지의 경로는 동일할 것입니다.\n",
        "이후의 경로는 불러오려는 파일이 있는 경로로 연결해주면 됩니다. "
      ]
    },
    {
      "cell_type": "code",
      "metadata": {
        "id": "cVQu-lbQN9w9"
      },
      "source": [
        "from google.colab import drive    # Google Drive 패키지 불러오기\n",
        "drive.mount('/content/gdrive/')\n",
        "\n",
        "# 아래 모듈 불러오기\n",
        "import time\n",
        "import os\n",
        "import pandas as pd  \n",
        "import re\n",
        "\n",
        "os.chdir('/content/gdrive/My Drive/Colab Notebooks/datascience')"
      ],
      "execution_count": null,
      "outputs": []
    },
    {
      "cell_type": "code",
      "metadata": {
        "id": "ScPyRBIxBSBJ"
      },
      "source": [
        "# 캐글의 타이타닉 데이터셋 가져오기 \n",
        "titanic_df = pd.read_csv('./titanic_train.csv')     # 현재 작업 환경 경로 기준\n",
        "titanic_df"
      ],
      "execution_count": null,
      "outputs": []
    },
    {
      "cell_type": "markdown",
      "metadata": {
        "id": "aVWh9mpyORLD"
      },
      "source": [
        ">먼저 상위 5개의 데이터만 확인해보겠습니다.\n",
        "- `.head()`"
      ]
    },
    {
      "cell_type": "code",
      "metadata": {
        "id": "HP45KYx5B51d"
      },
      "source": [
        "# 상위 5개 데이터만 확인해보기\n",
        "titanic_df.head(5)"
      ],
      "execution_count": null,
      "outputs": []
    },
    {
      "cell_type": "markdown",
      "metadata": {
        "id": "8m9zZOonObMs"
      },
      "source": [
        "> 전체 데이터셋의 여러 가지 정보를 확인해보는 코드입니다.\n",
        " - `.shape` : 데이터셋의 크기\n",
        " - `.info()` : 데이터셋의 요약 정보\n",
        " - `.describe()` : 데이터셋의 기초 통계량"
      ]
    },
    {
      "cell_type": "code",
      "metadata": {
        "id": "YG7Gqk-uB_Rx"
      },
      "source": [
        "# 데이터셋의 크기를 확인해보기\n",
        "titanic_df.shape    # (행의 수, 열의수)"
      ],
      "execution_count": null,
      "outputs": []
    },
    {
      "cell_type": "code",
      "metadata": {
        "id": "Bf5sBMXrCHjH"
      },
      "source": [
        "# 데이터셋의 요약 정보 확인하기\n",
        "titanic_df.info()"
      ],
      "execution_count": null,
      "outputs": []
    },
    {
      "cell_type": "code",
      "metadata": {
        "id": "kMG6QHG2CRKc"
      },
      "source": [
        "# 데이터셋의 기초 통계량 확인하기\n",
        "titanic_df.describe()"
      ],
      "execution_count": null,
      "outputs": []
    },
    {
      "cell_type": "markdown",
      "metadata": {
        "id": "VRW9IkC7Pr1s"
      },
      "source": [
        "> 🔍 지금까지 배운 내용을 활용해서 데이터를 필터링해보겠습니다.  \n",
        "- Age와 Name 열만 출력\n",
        "- Age가 60세 이상\n",
        "- 상위 3개만 출력"
      ]
    },
    {
      "cell_type": "code",
      "metadata": {
        "id": "MvVvW6hNCXJO"
      },
      "source": [
        "titanic_df[???].head(3)"
      ],
      "execution_count": null,
      "outputs": []
    },
    {
      "cell_type": "code",
      "metadata": {
        "id": "R1aJTzADC36a"
      },
      "source": [
        "# loc을 사용하여 필터링하기\n",
        "titanic_df.???.head(3)"
      ],
      "execution_count": null,
      "outputs": []
    },
    {
      "cell_type": "markdown",
      "metadata": {
        "id": "aVDNh6CvWUJT"
      },
      "source": [
        "> 조건이 많아질 때 필터링하는 방법은 어떻게 될까요?  \n",
        " - Age는 60세 이상\n",
        " - Pclass가 1등급\n",
        " - Sex가 female  \n",
        ">\n",
        " >인 데이터만 필터링!!"
      ]
    },
    {
      "cell_type": "code",
      "metadata": {
        "id": "fHyNDTXwEffs"
      },
      "source": [
        "# ()와 &를 잘 활용하면 요령은 똑같습니다!\n",
        "???"
      ],
      "execution_count": null,
      "outputs": []
    },
    {
      "cell_type": "markdown",
      "metadata": {
        "id": "xe7ANz64cLCX"
      },
      "source": [
        "`len()`을 활용하면 필터링된 데이터의 총량을 알 수 있습니다.\n",
        "> 다음은 Pclass별 여성의 생존자 수를 구하는 코드입니다.\n",
        "- 꼼꼼히 살펴보고 이해하는 게 중요합니다! 😵"
      ]
    },
    {
      "cell_type": "code",
      "metadata": {
        "id": "G-oY6ICZH-R9"
      },
      "source": [
        "# Survived의 경우 1일 경우가 사망인 데이터입니다\n",
        "print('1등급 여성 생존자', len(titanic_df[(titanic_df['Pclass']==1) & (titanic_df['Sex'] == 'female') & (titanic_df['Survived'] == 1)]))   \n",
        "print('2등급 여성 생존자', len(titanic_df[(titanic_df['Pclass']==2) & (titanic_df['Sex'] == 'female') & (titanic_df['Survived'] == 1)]))\n",
        "print('3등급 여성 생존자', len(titanic_df[(titanic_df['Pclass']==3) & (titanic_df['Sex'] == 'female') & (titanic_df['Survived'] == 1)]))"
      ],
      "execution_count": null,
      "outputs": []
    },
    {
      "cell_type": "markdown",
      "metadata": {
        "id": "PBy_x5fwdGJ_"
      },
      "source": [
        "> 다음은 Pclass별로 남성 생존자 수를 구하는 코드입니다."
      ]
    },
    {
      "cell_type": "code",
      "metadata": {
        "id": "cnJwL8tXJOTB"
      },
      "source": [
        "print('1등급 남성 생존자', len(titanic_df[(titanic_df['Pclass']==1) & (titanic_df['Sex'] == 'male') & (titanic_df['Survived'] == 1)]))\n",
        "print('2등급 남성 생존자', len(titanic_df[(titanic_df['Pclass']==2) & (titanic_df['Sex'] == 'male') & (titanic_df['Survived'] == 1)]))\n",
        "print('3등급 남성 생존자', len(titanic_df[(titanic_df['Pclass']==3) & (titanic_df['Sex'] == 'male') & (titanic_df['Survived'] == 1)]))"
      ],
      "execution_count": null,
      "outputs": []
    },
    {
      "cell_type": "markdown",
      "metadata": {
        "id": "REsbXB5Tw3ny"
      },
      "source": [
        "> `.groupby()` 이용해보기\n"
      ]
    },
    {
      "cell_type": "code",
      "metadata": {
        "id": "xk8WhJSAFJ3G"
      },
      "source": [
        "# Pclass를 인덱스 레이블로 다른 속성들의 관계 살펴보기\n",
        "titanic_groupby = titanic_df.groupby(by='Pclass').count()\n",
        "titanic_groupby"
      ],
      "execution_count": null,
      "outputs": []
    },
    {
      "cell_type": "markdown",
      "metadata": {
        "id": "A_Zemtq9uCei"
      },
      "source": [
        "# 🖐 오늘 하루도 고생하셨습니다!! 다음 수업 때 뵐게요 🖐\n",
        "\n",
        "![대체 텍스트](https://img1.daumcdn.net/thumb/R800x0/?scode=mtistory2&fname=https%3A%2F%2Ft1.daumcdn.net%2Fcfile%2Ftistory%2F2373274A51E13C4120)\n",
        "\n",
        "한 번 더 다른 컨텐츠로 판다스를 복습하고 싶다면?  \n",
        "\n",
        "글로벌 데이터 사이언스의 대명사 Kaggle에서 판다스 기초 학습이 가능합니다!**(😱영어 주의😭)**  \n",
        "\n",
        "https://www.kaggle.com/residentmario/creating-reading-and-writing\n",
        "\n"
      ]
    },
    {
      "cell_type": "code",
      "metadata": {
        "id": "inLeru4AuFTK"
      },
      "source": [
        ""
      ],
      "execution_count": null,
      "outputs": []
    }
  ]
}